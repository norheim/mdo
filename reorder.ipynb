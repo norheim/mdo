{
 "cells": [
  {
   "cell_type": "code",
   "execution_count": 1,
   "metadata": {},
   "outputs": [],
   "source": [
    "from itertools import combinations\n",
    "from collections import defaultdict\n",
    "import docker\n",
    "from numpy import sign\n",
    "import re"
   ]
  },
  {
   "cell_type": "code",
   "execution_count": 62,
   "metadata": {},
   "outputs": [],
   "source": [
    "def extract_sol(s):\n",
    "    digitfinder = re.compile(\"-*\\d+\")\n",
    "    find = digitfinder.findall(s)\n",
    "    digits = set(map(int, find))\n",
    "    if 0 in digits:\n",
    "        digits.remove(0)\n",
    "    return digits\n",
    "def find_solutions():\n",
    "    client = docker.from_env()\n",
    "    maxsol = 1000\n",
    "    solve_problem_cmd = \"cryptominisat5 --verb 0 --maxsol {} /data/problem2.cnf\".format(maxsol)\n",
    "    _,out = client.containers.get(\"cms\").exec_run(solve_problem_cmd)\n",
    "    getsol = lambda sol: {sign(elt)*elt: elt>0 for elt in sol}\n",
    "    all_lines = iter(out.decode(\"utf-8\").split(\"\\n\"))\n",
    "    line = next(all_lines)\n",
    "    s = []\n",
    "    while not (line == \"s UNSATISFIABLE\"):\n",
    "        if line == \"s SATISFIABLE\":\n",
    "            s.append({})\n",
    "        else:\n",
    "            #print(\"|{}|\".format(line))\n",
    "            s[-1].update(getsol(extract_sol(line)))\n",
    "        line = next(all_lines)\n",
    "    return s"
   ]
  },
  {
   "cell_type": "code",
   "execution_count": 27,
   "metadata": {},
   "outputs": [],
   "source": [
    "def list2filestr(cnf):\n",
    "    return \"\\n\".join([\" \".join(map(str, lnf)) for lnf in cnf])\n",
    "\n",
    "def write2cnf(start, cnf):\n",
    "    path = \"C:/Users/johan/PycharmProjects/sat/problem2.cnf\"\n",
    "    with open(path, \"w\") as text_file:\n",
    "            cnfstr = \"p cnf {} {}\\n\".format(start, len(cnf))\n",
    "            cnfstr += list2filestr(cnf)\n",
    "            text_file.write(cnfstr)"
   ]
  },
  {
   "cell_type": "code",
   "execution_count": 41,
   "metadata": {},
   "outputs": [
    {
     "data": {
      "text/plain": [
       "[{3: True, 2: False, 4: False, 1: False},\n",
       " {2: True, 4: True, 3: False, 1: False}]"
      ]
     },
     "execution_count": 41,
     "metadata": {},
     "output_type": "execute_result"
    }
   ],
   "source": [
    "out"
   ]
  },
  {
   "cell_type": "code",
   "execution_count": 65,
   "metadata": {},
   "outputs": [],
   "source": [
    "sets = (\n",
    "    {1, 2, 3},\n",
    "    {4, 5},\n",
    "    {6, 7},\n",
    "    {2, 4},\n",
    "    {3, 5, 6},\n",
    ")"
   ]
  },
  {
   "cell_type": "code",
   "execution_count": 66,
   "metadata": {},
   "outputs": [],
   "source": [
    "linecnf = sets[0].union(*sets[1:])\n",
    "start = len(linecnf)"
   ]
  },
  {
   "cell_type": "code",
   "execution_count": 67,
   "metadata": {},
   "outputs": [],
   "source": [
    "def combocnf(combo):\n",
    "    return {(-c1, -c2, 0) for c1, c2 in combinations(combo,2)}"
   ]
  },
  {
   "cell_type": "code",
   "execution_count": 68,
   "metadata": {},
   "outputs": [],
   "source": [
    "cnf = {elt for combo in sets for elt in combocnf(combo)}\n",
    "for s in sets:\n",
    "    cnf.add(tuple(s)+(0,))"
   ]
  },
  {
   "cell_type": "code",
   "execution_count": 69,
   "metadata": {},
   "outputs": [
    {
     "data": {
      "text/plain": [
       "{(-6, -7, 0),\n",
       " (-5, -6, 0),\n",
       " (-4, -5, 0),\n",
       " (-3, -6, 0),\n",
       " (-3, -5, 0),\n",
       " (-2, -4, 0),\n",
       " (-2, -3, 0),\n",
       " (-1, -3, 0),\n",
       " (-1, -2, 0),\n",
       " (1, 2, 3, 0),\n",
       " (2, 4, 0),\n",
       " (3, 5, 6, 0),\n",
       " (4, 5, 0),\n",
       " (6, 7, 0)}"
      ]
     },
     "execution_count": 69,
     "metadata": {},
     "output_type": "execute_result"
    }
   ],
   "source": [
    "cnf"
   ]
  },
  {
   "cell_type": "code",
   "execution_count": 70,
   "metadata": {},
   "outputs": [],
   "source": [
    "write2cnf(start, cnf)"
   ]
  },
  {
   "cell_type": "code",
   "execution_count": 71,
   "metadata": {},
   "outputs": [],
   "source": [
    "out = find_solutions()"
   ]
  },
  {
   "cell_type": "code",
   "execution_count": 72,
   "metadata": {},
   "outputs": [
    {
     "data": {
      "text/plain": [
       "[{2: True, 5: True, 7: True, 6: False, 4: False, 3: False, 1: False},\n",
       " {3: True, 4: True, 7: True, 2: False, 6: False, 5: False, 1: False},\n",
       " {1: True, 4: True, 6: True, 7: False, 5: False, 3: False, 2: False}]"
      ]
     },
     "execution_count": 72,
     "metadata": {},
     "output_type": "execute_result"
    }
   ],
   "source": [
    "out"
   ]
  },
  {
   "cell_type": "code",
   "execution_count": null,
   "metadata": {},
   "outputs": [],
   "source": []
  }
 ],
 "metadata": {
  "kernelspec": {
   "display_name": "mdo",
   "language": "python",
   "name": "mdo"
  },
  "language_info": {
   "codemirror_mode": {
    "name": "ipython",
    "version": 3
   },
   "file_extension": ".py",
   "mimetype": "text/x-python",
   "name": "python",
   "nbconvert_exporter": "python",
   "pygments_lexer": "ipython3",
   "version": "3.7.3"
  }
 },
 "nbformat": 4,
 "nbformat_minor": 2
}
