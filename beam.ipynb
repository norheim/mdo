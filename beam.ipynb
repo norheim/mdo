{
 "cells": [
  {
   "cell_type": "code",
   "execution_count": 31,
   "metadata": {},
   "outputs": [],
   "source": [
    "# Import packages.\n",
    "import cvxpy as cp\n",
    "import numpy as np"
   ]
  },
  {
   "cell_type": "code",
   "execution_count": 32,
   "metadata": {},
   "outputs": [],
   "source": [
    "Ixx = cp.Variable(pos=True)\n",
    "a = cp.Variable(pos=True)\n",
    "t = cp.Variable(pos=True)\n",
    "s = cp.Variable(pos=True)"
   ]
  },
  {
   "cell_type": "code",
   "execution_count": 33,
   "metadata": {},
   "outputs": [],
   "source": [
    "c1 = cp.Variable(pos=True)\n",
    "P = 1\n",
    "l = 0.3"
   ]
  },
  {
   "cell_type": "code",
   "execution_count": 35,
   "metadata": {},
   "outputs": [
    {
     "data": {
      "text/plain": [
       "3.914867689460309"
      ]
     },
     "execution_count": 35,
     "metadata": {},
     "output_type": "execute_result"
    }
   ],
   "source": [
    "constraints = [\n",
    "    s <= 0.1,\n",
    "    s == P*a/(2*Ixx),\n",
    "    Ixx <= 1./12*cp.diff_pos(a**4, c1**4),\n",
    "    cp.diff_pos(a, 2*t) >= c1,\n",
    "    #t <= a\n",
    "]\n",
    "prob = cp.Problem(cp.Minimize(a), constraints)\n",
    "prob.solve(gp=True, solver=cp.MOSEK)"
   ]
  },
  {
   "cell_type": "code",
   "execution_count": 27,
   "metadata": {},
   "outputs": [
    {
     "name": "stdout",
     "output_type": "stream",
     "text": [
      "LOG-LOG AFFINE\n",
      "LOG-LOG CONVEX\n",
      "LOG-LOG AFFINE\n"
     ]
    }
   ],
   "source": [
    "print((P*a/(2*Ixx*s)).log_log_curvature)\n",
    "print((12*Ixx/a**4+c1**4/a**4).log_log_curvature)\n",
    "print(cp.diff_pos(a, 2*t).log_log_curvature)"
   ]
  },
  {
   "cell_type": "code",
   "execution_count": 9,
   "metadata": {},
   "outputs": [
    {
     "name": "stdout",
     "output_type": "stream",
     "text": [
      "minimize var3\n",
      "subject to var3 == 1000.0 * var1 / 2.0 * var0\n",
      "           12.0 * var0 + power(var4, 4) <= power(var1, 4)\n",
      "           var4 + 2.0 * var2 <= var1\n",
      "Is this problem DGP? True\n"
     ]
    }
   ],
   "source": [
    "print(prob)\n",
    "print(\"Is this problem DGP?\", prob.is_dgp())"
   ]
  },
  {
   "cell_type": "code",
   "execution_count": 6,
   "metadata": {},
   "outputs": [
    {
     "name": "stdout",
     "output_type": "stream",
     "text": [
      "\n",
      "The optimal value is 8.434326766948509\n",
      "8.434326766948509\n",
      "0.09390215608042365\n",
      "0.035044079767766904\n",
      "0.010000000000000004\n",
      "421.7163383474258\n"
     ]
    }
   ],
   "source": [
    "# Print result.\n",
    "print(\"\\nThe optimal value is\", prob.value)\n",
    "print(a.value)\n",
    "print(c1.value)\n",
    "print(t.value)\n",
    "print(s.value)\n",
    "print(Ixx.value)"
   ]
  },
  {
   "cell_type": "code",
   "execution_count": 7,
   "metadata": {},
   "outputs": [
    {
     "data": {
      "text/plain": [
       "5060.596137919442"
      ]
     },
     "execution_count": 7,
     "metadata": {},
     "output_type": "execute_result"
    }
   ],
   "source": [
    "(12*Ixx+c1**4).value"
   ]
  },
  {
   "cell_type": "code",
   "execution_count": 8,
   "metadata": {},
   "outputs": [
    {
     "data": {
      "text/plain": [
       "array(5060.59626524)"
      ]
     },
     "execution_count": 8,
     "metadata": {},
     "output_type": "execute_result"
    }
   ],
   "source": [
    "(a**4).value"
   ]
  },
  {
   "cell_type": "code",
   "execution_count": 58,
   "metadata": {},
   "outputs": [
    {
     "data": {
      "text/plain": [
       "0.009999999999999997"
      ]
     },
     "execution_count": 58,
     "metadata": {},
     "output_type": "execute_result"
    }
   ],
   "source": [
    "P*a/(2*Ixx)"
   ]
  },
  {
   "cell_type": "code",
   "execution_count": null,
   "metadata": {},
   "outputs": [],
   "source": []
  }
 ],
 "metadata": {
  "kernelspec": {
   "display_name": "mdo",
   "language": "python",
   "name": "mdo"
  },
  "language_info": {
   "codemirror_mode": {
    "name": "ipython",
    "version": 3
   },
   "file_extension": ".py",
   "mimetype": "text/x-python",
   "name": "python",
   "nbconvert_exporter": "python",
   "pygments_lexer": "ipython3",
   "version": "3.6.7"
  }
 },
 "nbformat": 4,
 "nbformat_minor": 4
}
