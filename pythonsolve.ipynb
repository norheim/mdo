{
 "cells": [
  {
   "cell_type": "code",
   "execution_count": 133,
   "metadata": {},
   "outputs": [],
   "source": [
    "from scipy.optimize import newton_krylov, fsolve"
   ]
  },
  {
   "cell_type": "code",
   "execution_count": 123,
   "metadata": {},
   "outputs": [
    {
     "data": {
      "text/plain": [
       "7.0710678118654755"
      ]
     },
     "execution_count": 123,
     "metadata": {},
     "output_type": "execute_result"
    }
   ],
   "source": [
    "import numpy as np\n",
    "np.sqrt(50)"
   ]
  },
  {
   "cell_type": "code",
   "execution_count": 157,
   "metadata": {},
   "outputs": [],
   "source": [
    "def f(d):\n",
    "    order = [\"x\",\"y\",\"z\"]\n",
    "    for k in d.keys():\n",
    "        order.remove(k)\n",
    "    def wrapper(v_in):\n",
    "        x = d[\"x\"] if \"x\" in d else v_in[order.index(\"x\")]\n",
    "        y = d[\"y\"] if \"y\" in d else v_in[order.index(\"y\")]\n",
    "        z = d[\"z\"] if \"z\" in d else v_in[order.index(\"z\")]\n",
    "        R1 = x**2+y**2 - 100\n",
    "        R2 = x + y - z\n",
    "        print(R1,R2)\n",
    "        return R1, R2\n",
    "    sol = fsolve(wrapper, [0,]*len(order))\n",
    "    return dict(zip(order, sol))"
   ]
  },
  {
   "cell_type": "code",
   "execution_count": 158,
   "metadata": {},
   "outputs": [
    {
     "name": "stdout",
     "output_type": "stream",
     "text": [
      "-100 -1\n",
      "-100.0 -1.0\n",
      "-100.0 -1.0\n",
      "-100.0 -0.9999999850988388\n",
      "-100.0 -0.9999999850988388\n",
      "9900.000000043618 2.1884716261411086e-12\n",
      "-98.50992549627702 2.1591617382910044e-12\n",
      "-98.5099254531046 1.793703052754836e-08\n",
      "-98.50992549751227 3.0358693337007026e-09\n",
      "-97.8084383289839 0.003067930266762664\n",
      "-95.84947163226417 0.009170312202924524\n",
      "-89.70736036122713 0.021276762900611423\n",
      "-68.52529148591513 0.04521367382254882\n",
      "9.438206631825437 0.09213142298686705\n",
      "-1.7583511359964916 2.288743417011574e-09\n",
      "0.0920424261963575 3.8135983260190187e-10\n",
      "-0.00041007885135968536 0.0\n",
      "-9.477673756919103e-08 0.0\n",
      "8.526512829121202e-14 0.0\n",
      "Wall time: 2.97 ms\n"
     ]
    },
    {
     "data": {
      "text/plain": [
       "{'x': 7.553367989832945, 'y': -6.553367989832945}"
      ]
     },
     "execution_count": 158,
     "metadata": {},
     "output_type": "execute_result"
    }
   ],
   "source": [
    "%%time\n",
    "out = f({\"z\":1})\n",
    "out"
   ]
  },
  {
   "cell_type": "code",
   "execution_count": 152,
   "metadata": {},
   "outputs": [
    {
     "data": {
      "text/plain": [
       "-6.243150004190783"
      ]
     },
     "execution_count": 152,
     "metadata": {},
     "output_type": "execute_result"
    }
   ],
   "source": [
    "out[\"x\"]+out[\"y\"]-11"
   ]
  },
  {
   "cell_type": "code",
   "execution_count": null,
   "metadata": {},
   "outputs": [],
   "source": []
  }
 ],
 "metadata": {
  "kernelspec": {
   "display_name": "mdo",
   "language": "python",
   "name": "mdo"
  },
  "language_info": {
   "codemirror_mode": {
    "name": "ipython",
    "version": 3
   },
   "file_extension": ".py",
   "mimetype": "text/x-python",
   "name": "python",
   "nbconvert_exporter": "python",
   "pygments_lexer": "ipython3",
   "version": "3.6.7"
  }
 },
 "nbformat": 4,
 "nbformat_minor": 4
}
