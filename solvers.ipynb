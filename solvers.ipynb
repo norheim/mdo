{
 "cells": [
  {
   "cell_type": "code",
   "execution_count": 3,
   "metadata": {},
   "outputs": [],
   "source": [
    "using JuMP, Gurobi, MosekTools"
   ]
  },
  {
   "cell_type": "code",
   "execution_count": 58,
   "metadata": {},
   "outputs": [
    {
     "data": {
      "text/latex": [
       "$ [yh, 1, d] \\in MathOptInterface.ExponentialCone() $"
      ],
      "text/plain": [
       "[yh, 1, d] in MathOptInterface.ExponentialCone()"
      ]
     },
     "execution_count": 58,
     "metadata": {},
     "output_type": "execute_result"
    }
   ],
   "source": [
    "model = Model(with_optimizer(Mosek.Optimizer))\n",
    "@variable(model, a1>=0)\n",
    "@variable(model, a2>=0)\n",
    "@variable(model, b1>=0)\n",
    "@variable(model, b2>=0)\n",
    "@variable(model, c>=0)\n",
    "@variable(model, d>=0)\n",
    "@variable(model, xh)\n",
    "@variable(model, yh)\n",
    "@objective(model, Max, 10*a1+b1)\n",
    "@constraint(model, a1 == 2*a2)\n",
    "@constraint(model, [xh,0.5,a2] in MOI.ExponentialCone())\n",
    "@constraint(model, b1 == 2*b2)\n",
    "@constraint(model, [yh,0.5,b2] in MOI.ExponentialCone())\n",
    "@constraint(model, c + d >= 1)\n",
    "@constraint(model, [xh,1,c] in MOI.ExponentialCone())\n",
    "@constraint(model, [yh,1,d] in MOI.ExponentialCone())"
   ]
  },
  {
   "cell_type": "code",
   "execution_count": 59,
   "metadata": {},
   "outputs": [
    {
     "name": "stdout",
     "output_type": "stream",
     "text": [
      "Problem\n",
      "  Name                   :                 \n",
      "  Objective sense        : max             \n",
      "  Type                   : CONIC (conic optimization problem)\n",
      "  Constraints            : 15              \n",
      "  Cones                  : 4               \n",
      "  Scalar variables       : 20              \n",
      "  Matrix variables       : 0               \n",
      "  Integer variables      : 0               \n",
      "\n",
      "Optimizer started.\n",
      "Presolve started.\n",
      "Linear dependency checker started.\n",
      "Linear dependency checker terminated.\n",
      "Eliminator started.\n",
      "Freed constraints in eliminator : 0\n",
      "Eliminator terminated.\n",
      "Eliminator - tries                  : 1                 time                   : 0.00            \n",
      "Lin. dep.  - tries                  : 1                 time                   : 0.00            \n",
      "Lin. dep.  - number                 : 0               \n",
      "Presolve terminated. Time: 0.02    \n",
      "Problem\n",
      "  Name                   :                 \n",
      "  Objective sense        : max             \n",
      "  Type                   : CONIC (conic optimization problem)\n",
      "  Constraints            : 15              \n",
      "  Cones                  : 4               \n",
      "  Scalar variables       : 20              \n",
      "  Matrix variables       : 0               \n",
      "  Integer variables      : 0               \n",
      "\n",
      "Optimizer  - threads                : 2               \n",
      "Optimizer  - solved problem         : the primal      \n",
      "Optimizer  - Constraints            : 3\n",
      "Optimizer  - Cones                  : 4\n",
      "Optimizer  - Scalar variables       : 13                conic                  : 12              \n",
      "Optimizer  - Semi-definite variables: 0                 scalarized             : 0               \n",
      "Factor     - setup time             : 0.00              dense det. time        : 0.00            \n",
      "Factor     - ML order time          : 0.00              GP order time          : 0.00            \n",
      "Factor     - nonzeros before factor : 5                 after factor           : 5               \n",
      "Factor     - dense dim.             : 0                 flops                  : 4.30e+01        \n",
      "ITE PFEAS    DFEAS    GFEAS    PRSTATUS   POBJ              DOBJ              MU       TIME  \n",
      "0   1.6e+00  2.1e+01  2.5e+01  0.00e+00   2.840040962e+01   2.415306005e+00   1.0e+00  0.02  \n",
      "1   1.7e-01  2.3e+00  9.2e+00  -1.06e+00  9.566921372e+01   5.312644650e+01   1.1e-01  0.02  \n",
      "2   1.1e-02  1.5e-01  2.6e+00  -1.13e+00  1.232944476e+03   9.849420891e+02   7.2e-03  0.02  \n",
      "3   7.0e-04  9.4e-03  8.3e-01  -1.07e+00  3.110312648e+04   2.534396482e+04   4.4e-04  0.02  \n",
      "4   1.8e-04  2.4e-03  3.8e-01  -9.09e-01  1.092821213e+05   9.079391884e+04   1.1e-04  0.02  \n",
      "5   1.1e-05  1.5e-04  1.2e-01  -1.04e+00  2.695909401e+06   2.255836410e+06   7.0e-06  0.02  \n",
      "6   2.5e-06  3.4e-05  4.5e-02  -8.22e-01  8.763200198e+06   7.486753364e+06   1.6e-06  0.02  \n",
      "7   3.2e-07  4.4e-06  2.1e-02  -1.11e+00  1.113762413e+08   9.409266028e+07   2.1e-07  0.02  \n",
      "8   4.8e-08  6.4e-07  6.3e-03  -8.34e-01  5.177863996e+08   4.469265813e+08   3.0e-08  0.02  \n",
      "9   7.7e-09  1.0e-07  3.5e-03  -1.15e+00  5.246246609e+09   4.431009320e+09   4.9e-09  0.02  \n",
      "10  1.7e-09  2.3e-08  1.3e-03  -7.88e-01  1.712715813e+10   1.482075875e+10   1.1e-09  0.02  \n",
      "11  2.3e-10  3.1e-09  6.0e-04  -1.10e+00  1.802155663e+11   1.536766864e+11   1.5e-10  0.02  \n",
      "12  1.4e-11  1.9e-10  7.9e-05  -7.85e-01  1.006965064e+12   8.827639569e+11   9.0e-12  0.02  \n",
      "13  2.0e-12  2.7e-11  4.4e-05  -1.15e+00  1.307218900e+13   1.114182128e+13   1.3e-12  0.02  \n",
      "Optimizer terminated. Time: 0.02    \n",
      "\n"
     ]
    }
   ],
   "source": [
    "optimize!(model)"
   ]
  },
  {
   "cell_type": "code",
   "execution_count": 60,
   "metadata": {},
   "outputs": [
    {
     "data": {
      "text/plain": [
       "(0.508942653356564, 0.254471326678282)"
      ]
     },
     "execution_count": 60,
     "metadata": {},
     "output_type": "execute_result"
    }
   ],
   "source": [
    "value.(a1), value.(a2)"
   ]
  },
  {
   "cell_type": "code",
   "execution_count": 61,
   "metadata": {},
   "outputs": [
    {
     "data": {
      "text/plain": [
       "(0.5955030288949906, 0.9410333865577656)"
      ]
     },
     "execution_count": 61,
     "metadata": {},
     "output_type": "execute_result"
    }
   ],
   "source": [
    "value.(c),value.(d)"
   ]
  },
  {
   "cell_type": "code",
   "execution_count": 26,
   "metadata": {},
   "outputs": [
    {
     "data": {
      "text/plain": [
       "0.9999999995905346"
      ]
     },
     "execution_count": 26,
     "metadata": {},
     "output_type": "execute_result"
    }
   ],
   "source": [
    "exp(value.(xh))"
   ]
  },
  {
   "cell_type": "code",
   "execution_count": 33,
   "metadata": {},
   "outputs": [
    {
     "data": {
      "text/plain": [
       "5.027656426653238e-9"
      ]
     },
     "execution_count": 33,
     "metadata": {},
     "output_type": "execute_result"
    }
   ],
   "source": [
    "objective_value(model)"
   ]
  },
  {
   "cell_type": "code",
   "execution_count": null,
   "metadata": {},
   "outputs": [],
   "source": []
  }
 ],
 "metadata": {
  "kernelspec": {
   "display_name": "Julia 1.2.0",
   "language": "julia",
   "name": "julia-1.2"
  },
  "language_info": {
   "file_extension": ".jl",
   "mimetype": "application/julia",
   "name": "julia",
   "version": "1.2.0"
  }
 },
 "nbformat": 4,
 "nbformat_minor": 4
}
