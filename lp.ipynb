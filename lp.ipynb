{
 "cells": [
  {
   "cell_type": "code",
   "execution_count": 1,
   "metadata": {},
   "outputs": [],
   "source": [
    "# Import packages.\n",
    "import cvxpy as cp\n",
    "import numpy as np"
   ]
  },
  {
   "cell_type": "code",
   "execution_count": 14,
   "metadata": {},
   "outputs": [
    {
     "data": {
      "text/plain": [
       "0.0"
      ]
     },
     "execution_count": 14,
     "metadata": {},
     "output_type": "execute_result"
    }
   ],
   "source": [
    "d = np.array([20,20,30,10])\n",
    "xf = cp.Variable((3,4), boolean=True)\n",
    "xc = cp.Variable((3,4), integer=True)\n",
    "constraints = [cp.sum(xf[:,i]) == 1 for i in range(4)]\n",
    "constraints += [cp.sum(xc[i,:]) <= 32 for i in range(3)]\n",
    "constraints += [xc[:,i] <= d[i]*xf[:,i] for i in range(4)]\n",
    "constraints += [xc >= 0]\n",
    "objective = sum(d)-cp.sum(xc)\n",
    "prob = cp.Problem(cp.Minimize(objective), constraints)\n",
    "prob.solve(solver=cp.GUROBI)"
   ]
  },
  {
   "cell_type": "code",
   "execution_count": 15,
   "metadata": {},
   "outputs": [
    {
     "name": "stdout",
     "output_type": "stream",
     "text": [
      "\n",
      "The optimal value is 0.0\n",
      "[[1. 0. 0. 0.]\n",
      " [0. 0. 1. 0.]\n",
      " [0. 1. 0. 1.]]\n",
      "[[20.  0.  0.  0.]\n",
      " [ 0.  0. 30.  0.]\n",
      " [ 0. 20.  0. 10.]]\n"
     ]
    }
   ],
   "source": [
    "# Print result.\n",
    "print(\"\\nThe optimal value is\", prob.value)\n",
    "print(xf.value)\n",
    "print(xc.value)"
   ]
  },
  {
   "cell_type": "code",
   "execution_count": 3,
   "metadata": {},
   "outputs": [
    {
     "name": "stdout",
     "output_type": "stream",
     "text": [
      "Academic license - for non-commercial use only\n",
      "\n",
      "The optimal value is -15.220912604467836\n",
      "A solution x is\n",
      "[-1.10871865 -0.11841239 -0.99712988 -0.01927142  0.73027293 -1.26127757\n",
      "  1.05265766  0.7802793   0.43064102  0.88633021]\n",
      "A dual solution is\n",
      "[-0.          0.61175641  0.52817175  1.07296862 -0.          2.3015387\n",
      " -0.          0.7612069   0.          0.24937038 -0.          2.06014071\n",
      "  0.3224172   0.38405435 -0.        ]\n"
     ]
    }
   ],
   "source": [
    "# Generate a random non-trivial linear program.\n",
    "m = 15\n",
    "n = 10\n",
    "np.random.seed(1)\n",
    "s0 = np.random.randn(m)\n",
    "lamb0 = np.maximum(-s0, 0)\n",
    "s0 = np.maximum(s0, 0)\n",
    "x0 = np.random.randn(n)\n",
    "A = np.random.randn(m, n)\n",
    "b = A@x0 + s0\n",
    "c = -A.T@lamb0\n",
    "\n",
    "# Define and solve the CVXPY problem.\n",
    "x = cp.Variable(n)\n",
    "prob = cp.Problem(cp.Minimize(c.T@x),\n",
    "                 [A@x <= b])\n",
    "prob.solve(solver=cp.GUROBI)\n",
    "\n",
    "# Print result.\n",
    "print(\"\\nThe optimal value is\", prob.value)\n",
    "print(\"A solution x is\")\n",
    "print(x.value)\n",
    "print(\"A dual solution is\")\n",
    "print(prob.constraints[0].dual_value)"
   ]
  },
  {
   "cell_type": "code",
   "execution_count": 2,
   "metadata": {},
   "outputs": [
    {
     "data": {
      "text/plain": [
       "['ECOS', 'ECOS_BB', 'GUROBI', 'MOSEK', 'OSQP', 'SCS']"
      ]
     },
     "execution_count": 2,
     "metadata": {},
     "output_type": "execute_result"
    }
   ],
   "source": [
    "cp.installed_solvers()"
   ]
  },
  {
   "cell_type": "code",
   "execution_count": null,
   "metadata": {},
   "outputs": [],
   "source": []
  }
 ],
 "metadata": {
  "kernelspec": {
   "display_name": "mdo",
   "language": "python",
   "name": "mdo"
  },
  "language_info": {
   "codemirror_mode": {
    "name": "ipython",
    "version": 3
   },
   "file_extension": ".py",
   "mimetype": "text/x-python",
   "name": "python",
   "nbconvert_exporter": "python",
   "pygments_lexer": "ipython3",
   "version": "3.6.7"
  }
 },
 "nbformat": 4,
 "nbformat_minor": 4
}
