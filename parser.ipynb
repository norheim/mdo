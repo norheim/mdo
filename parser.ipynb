{
 "cells": [
  {
   "cell_type": "code",
   "execution_count": 1,
   "metadata": {},
   "outputs": [
    {
     "name": "stdout",
     "output_type": "stream",
     "text": [
      "[(([0-9])[_]([0-9]))*]\\.(([0-9])[_]([0-9]))*|(([0-9])[_]([0-9]))*\\.|((([0-9])[_]([0-9]))*|[(([0-9])[_]([0-9]))*]\\.(([0-9])[_]([0-9]))*|(([0-9])[_]([0-9]))*\\.)(e|E)[+|-](([0-9])[_]([0-9]))*\n"
     ]
    }
   ],
   "source": [
    "from latex2py import lexer"
   ]
  },
  {
   "cell_type": "code",
   "execution_count": 2,
   "metadata": {},
   "outputs": [
    {
     "name": "stdout",
     "output_type": "stream",
     "text": [
      "Illegal character '2'\n",
      "Illegal character '.'\n",
      "Illegal character '2'\n",
      "Illegal character '3'\n",
      "Illegal character 'e'\n",
      "LexToken(MINUS,'-',1,5)\n",
      "Illegal character '1'\n",
      "Illegal character '9'\n"
     ]
    }
   ],
   "source": [
    " # Test it out\n",
    "data = '2.23e-19'\n",
    "\n",
    "# Give the lexer some input\n",
    "lexer.input(data)\n",
    "\n",
    "# Tokenize\n",
    "for tok in lexer:\n",
    "     print(tok)"
   ]
  },
  {
   "cell_type": "code",
   "execution_count": null,
   "metadata": {},
   "outputs": [],
   "source": []
  }
 ],
 "metadata": {
  "kernelspec": {
   "display_name": "engml27",
   "language": "python",
   "name": "engml27"
  },
  "language_info": {
   "codemirror_mode": {
    "name": "ipython",
    "version": 2
   },
   "file_extension": ".py",
   "mimetype": "text/x-python",
   "name": "python",
   "nbconvert_exporter": "python",
   "pygments_lexer": "ipython2",
   "version": "2.7.15"
  }
 },
 "nbformat": 4,
 "nbformat_minor": 4
}
