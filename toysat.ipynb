{
 "cells": [
  {
   "cell_type": "markdown",
   "metadata": {},
   "source": [
    "Spacecraft model feed forward"
   ]
  },
  {
   "cell_type": "code",
   "execution_count": 17,
   "metadata": {},
   "outputs": [],
   "source": [
    "import numpy as np\n",
    "from scipy import interpolate\n",
    "import pygmo as pg #https://esa.github.io/pagmo2/docs/python/tutorials/coding_udp_simple.html\n",
    "import time\n",
    "from itertools import product"
   ]
  },
  {
   "cell_type": "code",
   "execution_count": 2,
   "metadata": {},
   "outputs": [],
   "source": [
    "toyear = 1/(3600*24*365)"
   ]
  },
  {
   "cell_type": "code",
   "execution_count": 3,
   "metadata": {},
   "outputs": [],
   "source": [
    "μ = 3.986005e14 # m^3/s^2 standard gravitational parameter\n",
    "R = 6378e3 # m\n",
    "Q = 1367 # W/m^2\n",
    "EN = 10\n",
    "D_r = 5.3 # m\n",
    "L = 9.772372209558107\n",
    "k = 1.38064852e-23 # J/K Boltzman constant R/Na\n",
    "T_s = 135 # K\n",
    "B = 8 # bit\n",
    "N = 2e3 # pixel width\n",
    "η = 0.55\n",
    "λ_v = 500e-9 # m\n",
    "f = 2.2e9 # Hz\n",
    "c = 2.998e8 # m/s\n",
    "η_A = 0.29\n",
    "ρ_A = 10 # kg/m^2\n",
    "ρ_p = 100 # kg/m^1.5\n",
    "ρ_T = 2 # kg/m^1.5\n",
    "ρ_P = 500e3 # kg*m\n",
    "ρ_b = 0.002e-3 # kg/J\n",
    "P_l = 5 # W\n",
    "m_c = 0.2 # kg required weight\n",
    "η_S = 0.2 # 20% of total mass is structural mass\n",
    "C_D = 2.2 # coefficient of drag\n",
    "G = 9.81 # m/s^2 gravitational constant\n",
    "I_sp = 70 # s impulse specific constant\n",
    "w_W = 1000 # radians/s for maximum angular velocity of reaction wheel\n",
    "c_W = 1 # constant to make gravity gradient significant enough to count\n",
    "ρ_M = 11e4  # MTQ\n",
    "ρ_P2 = 9/0.1 # acs\n",
    "M_B = 7.96e15\n",
    "m_c = 0.2\n",
    "κ=0.00002"
   ]
  },
  {
   "cell_type": "markdown",
   "metadata": {},
   "source": [
    "Data tables"
   ]
  },
  {
   "cell_type": "code",
   "execution_count": 116,
   "metadata": {},
   "outputs": [],
   "source": [
    "h_ρi = np.array([100, 150, 200, 250, 300, 350, 400, 450, 500, \n",
    "                 550, 600, 650, 700, 750, 800, 850, 900, 950, 1000, 1250, 1500])*1e3\n",
    "ρi = np.array([4.79e-07, 1.81e-09, 2.53e-10, 6.24e-11, 1.95e-11, 6.98e-12, 2.72e-12, \n",
    "               1.13e-12, 4.89e-13, 2.21e-13, 1.04e-13, 5.15e-14, 2.72e-14, 1.55e-14, \n",
    "               9.63e-15, 6.47e-15, 4.66e-15, 3.54e-15, 2.79e-15, 1.11e-15, 5.21e-16])\n",
    "Hi = np.array([5.9, 25.5, 37.5, 44.8, 50.3, 54.8, 58.2, 61.3, 64.5, 68.7, 74.8, 84.4, \n",
    "               99.3, 121, 151, 188, 226, 263, 296, 408, 516])*1e3\n",
    "ρinterp = interpolate.interp1d(h_ρi, ρi)\n",
    "Hinterp = interpolate.interp1d(h_ρi, Hi)\n",
    "ρ = lambda h: ρinterp(h) if h <= 1500e3 else 5.21e-16\n",
    "H = lambda h: Hinterp(h) if h <= 1500e3 else 516e3"
   ]
  },
  {
   "cell_type": "code",
   "execution_count": 117,
   "metadata": {},
   "outputs": [],
   "source": [
    "λ_c = c/f\n",
    "G_r = η*(np.pi*D_r/λ_c)**2"
   ]
  },
  {
   "cell_type": "code",
   "execution_count": 118,
   "metadata": {},
   "outputs": [],
   "source": [
    "L_min = 3\n",
    "X_r = 10 # m"
   ]
  },
  {
   "cell_type": "code",
   "execution_count": 119,
   "metadata": {},
   "outputs": [],
   "source": [
    "dBtoLinear = lambda db: 10**(db/10)\n",
    "n_T = 2 # transmitter catalog\n",
    "m_Ti = [0.053, 0.300]\n",
    "P_Ti = [10, 10]\n",
    "G_Ti = [dBtoLinear(10), dBtoLinear(16.5)]\n",
    "\n",
    "n_b = 5 # battery catalog\n",
    "E_bi = [138600, 144000, 144000, 165600, 1607040]\n",
    "m_bi = [0.270, 0.310, 0.355, 0.710, 3.95]\n",
    "\n",
    "n_p = 3 # payload catalog\n",
    "D_pi = [0.025, 0.075, 0.1]\n",
    "m_pi = [0.080, 1.75, 3.0]\n",
    "\n",
    "n_A = 2 # solar panel catalog\n",
    "ρ_Ai = [5.35, 0.84]\n",
    "η_Ai = [0.305, 0.275]"
   ]
  },
  {
   "cell_type": "code",
   "execution_count": 124,
   "metadata": {},
   "outputs": [],
   "source": [
    "g1 = lambda d, A, η_A, P_T: d*A*η_A*Q-P_T # positive\n",
    "g2 = lambda E_b, d, T, P_T: E_b-1/d*P_T*T\n",
    "def g3(T, P_T, G_T, r):\n",
    "    D = 2*np.pi*R*B*N/X_r\n",
    "    b = D/T\n",
    "    #print(b/(8*1e6)) #Mb/s\n",
    "    #D_T = λ_c*np.sqrt(G_T/η)/np.pi\n",
    "    EN_calc = P_T*G_r*G_T/(L*k*T_s*b)*(λ_c/(4*np.pi*r))**2\n",
    "    return 10*np.log10(EN_calc)-EN\n",
    "def f4(a, T, A, ρ_A, m_s, m_T, m_p, m_b, m_pr, choice):\n",
    "    T_g = 3*μ/(2*a**3)*c_W\n",
    "    if choice:\n",
    "        m_torque = ρ_P2*T*T_g*1/4*np.sqrt(2)/2*3*365*L_min/(G*I_sp)\n",
    "    else:\n",
    "        m_torque = ρ_M*T_g\n",
    "    m_A=ρ_A*A\n",
    "    return m_s+m_T+m_c+m_A+m_p+m_b+m_torque+m_pr\n",
    "def g4(h, a, A, T, mt, m_pr):\n",
    "    Ln = H(h)*mt/(2*np.pi*C_D*A*ρ(h)*a**2)*T\n",
    "    Lp = m_pr*I_sp*G*a/(0.5*C_D*A*ρ(h)*μ)\n",
    "    #print(Ln*toyear, Lp*toyear)\n",
    "    return (Ln+Lp)*toyear-L_min\n",
    "h5 = lambda ms, mt: ms - η_S*mt"
   ]
  },
  {
   "cell_type": "code",
   "execution_count": 125,
   "metadata": {},
   "outputs": [],
   "source": [
    "#xc = [500e3, 0.05, 0.5, 0.25]\n",
    "xd = [0,0,0,0,0]"
   ]
  },
  {
   "cell_type": "code",
   "execution_count": 128,
   "metadata": {},
   "outputs": [],
   "source": [
    "class my_constrained_udp:\n",
    "    def __init__(self, xd):\n",
    "        self.xd = xd\n",
    "        \n",
    "    def fitness(self, x):\n",
    "        comms, bat, payload, solar, choice = self.xd\n",
    "        A, m_s, m_pr = x\n",
    "        #print(x)\n",
    "        m_T, P_T, G_T = m_Ti[comms], P_Ti[comms], G_Ti[comms]\n",
    "        E_b, m_b = E_bi[bat], m_bi[bat]\n",
    "        D_p, m_p = D_pi[payload], m_pi[payload]\n",
    "        ρ_A, η_A = ρ_Ai[solar], η_Ai[solar]\n",
    "        h = X_r*D_p/(1.22*λ_v)\n",
    "        #print(h)\n",
    "        a = h + R\n",
    "        T = 2*np.pi*np.sqrt(a**3/μ)\n",
    "        g = 1/np.pi*np.arccos(R/(R+h))\n",
    "        d = g+0.5\n",
    "        r = np.sqrt(h**2+2*R*h)\n",
    "        mt = f4(a, T, A, ρ_A, m_s, m_T, m_p, m_b, m_pr, choice)\n",
    "        ce1 = h5(m_s, mt)\n",
    "        ci1 = g1(d, A, η_A, P_T)\n",
    "        ci2 = g2(E_b, d, T, P_T)\n",
    "        ci3 = g3(T, P_T, G_T, r)\n",
    "        ci4 = g4(h, a, A, T, mt, m_pr)\n",
    "        return [mt, ce1, -ci1, -ci2, -ci3, -ci4]\n",
    "    def get_bounds(self):\n",
    "        return ([0.001,1e-6,1e-6],[1, 20, 20])\n",
    "    def get_nic(self):\n",
    "        return 4\n",
    "    def get_nec(self):\n",
    "        return 1\n",
    "    def gradient(self, x):\n",
    "        return pg.estimate_gradient_h(lambda x: self.fitness(x), x)"
   ]
  },
  {
   "cell_type": "code",
   "execution_count": 129,
   "metadata": {},
   "outputs": [],
   "source": [
    "#prob = pg.problem(my_constrained_udp(xd))\n",
    "#algo = pg.algorithm(uda = pg.nlopt('auglag'))\n",
    "#algo.extract(pg.nlopt).local_optimizer = pg.nlopt('var2')\n",
    "algo = pg.algorithm(uda = pg.mbh(pg.nlopt(\"slsqp\"), stop = 20, perturb = .2))\n",
    "algo.set_verbosity(1)\n",
    "pop = pg.population(prob = my_constrained_udp(xd), size = 1)\n",
    "pop.problem.c_tol = [1E-6] * 5"
   ]
  },
  {
   "cell_type": "code",
   "execution_count": 130,
   "metadata": {},
   "outputs": [
    {
     "data": {
      "text/plain": [
       "array([ 1.27905839e+00, -3.62820884e-13,  2.23980834e-11, -4.75371824e+04,\n",
       "       -9.30842529e+00, -8.94187971e+03])"
      ]
     },
     "execution_count": 130,
     "metadata": {},
     "output_type": "execute_result"
    }
   ],
   "source": [
    "fsols[0]"
   ]
  },
  {
   "cell_type": "code",
   "execution_count": 131,
   "metadata": {},
   "outputs": [
    {
     "data": {
      "text/plain": [
       "[1.2790583858976698,\n",
       " -3.6282088444750116e-13,\n",
       " 2.2398083387997758e-11,\n",
       " -47537.18237468571,\n",
       " -9.30842529444924,\n",
       " 2.779349875124935]"
      ]
     },
     "execution_count": 131,
     "metadata": {},
     "output_type": "execute_result"
    }
   ],
   "source": [
    "my_constrained_udp((0, 0, 0, 0, 0)).fitness(xsols[0])"
   ]
  },
  {
   "cell_type": "code",
   "execution_count": 132,
   "metadata": {},
   "outputs": [
    {
     "name": "stdout",
     "output_type": "stream",
     "text": [
      "1 2.500096559524536\n",
      "2 1.4129753112792969\n",
      "3 2.11887526512146\n",
      "4 1.9449968338012695\n",
      "5 1.1564772129058838\n",
      "6 1.9773845672607422\n",
      "7 1.396683692932129\n",
      "8 2.0922725200653076\n",
      "9 0.5550000667572021\n",
      "10 0.5268394947052002\n",
      "11 0.3914668560028076\n",
      "12 0.6620793342590332\n",
      "13 3.3981516361236572\n",
      "14 1.984867811203003\n",
      "15 4.273959159851074\n",
      "16 3.0017879009246826\n",
      "17 0.9765229225158691\n",
      "18 1.1190063953399658\n",
      "19 1.8505480289459229\n",
      "20 1.4687366485595703\n",
      "21 0.8331568241119385\n",
      "22 0.7279818058013916\n",
      "23 0.3574090003967285\n",
      "24 1.0689995288848877\n",
      "25 1.9401764869689941\n",
      "26 1.8996880054473877\n",
      "27 1.3202228546142578\n",
      "28 3.6641809940338135\n",
      "29 0.9481165409088135\n",
      "30 0.8861417770385742\n",
      "31 0.8714468479156494\n",
      "32 1.276047945022583\n",
      "33 0.3599984645843506\n",
      "34 0.669996976852417\n",
      "35 0.46999645233154297\n",
      "36 0.5089981555938721\n",
      "37 1.9120545387268066\n",
      "38 3.0700035095214844\n",
      "39 1.6890976428985596\n",
      "40 1.7212235927581787\n",
      "41 2.2996103763580322\n",
      "42 2.8872451782226562\n",
      "43 1.2530388832092285\n",
      "44 1.6750602722167969\n",
      "45 0.5871138572692871\n",
      "46 0.4979984760284424\n",
      "47 0.45999908447265625\n",
      "48 0.45116686820983887\n",
      "49 1.1461546421051025\n",
      "50 1.2436549663543701\n",
      "51 1.733006477355957\n",
      "52 3.035555362701416\n",
      "53 0.8314309120178223\n",
      "54 2.171016216278076\n",
      "55 1.969907522201538\n",
      "56 1.8079993724822998\n",
      "57 0.5639972686767578\n",
      "58 0.5689988136291504\n",
      "59 0.9090273380279541\n",
      "60 0.42200732231140137\n",
      "61 2.2494425773620605\n",
      "62 2.752782106399536\n",
      "63 2.4343857765197754\n",
      "64 1.4464292526245117\n",
      "65 1.1903033256530762\n",
      "66 1.0228641033172607\n",
      "67 0.9191021919250488\n",
      "68 0.9019930362701416\n",
      "69 0.7665603160858154\n",
      "70 0.9911007881164551\n",
      "71 0.4460103511810303\n",
      "72 0.46263647079467773\n",
      "73 1.4345545768737793\n",
      "74 1.9690256118774414\n",
      "75 1.8199968338012695\n",
      "76 2.9811489582061768\n",
      "77 1.9717371463775635\n",
      "78 3.2839913368225098\n",
      "79 1.329110860824585\n",
      "80 1.6924331188201904\n",
      "81 0.397998571395874\n",
      "82 0.5561201572418213\n",
      "83 0.6230010986328125\n",
      "84 0.5399987697601318\n",
      "85 1.6869893074035645\n",
      "86 1.2538719177246094\n",
      "87 2.1600029468536377\n",
      "88 2.7888267040252686\n",
      "89 0.9540157318115234\n",
      "90 1.1343598365783691\n",
      "91 1.5064940452575684\n",
      "92 2.384000539779663\n",
      "93 0.8097724914550781\n",
      "94 0.35547852516174316\n",
      "95 0.6449973583221436\n",
      "96 1.3046491146087646\n",
      "97 1.5625417232513428\n",
      "98 2.483684539794922\n",
      "99 4.447452068328857\n",
      "100 1.4942049980163574\n",
      "101 1.7701091766357422\n",
      "102 1.1950151920318604\n",
      "103 1.8033843040466309\n",
      "104 2.2281649112701416\n",
      "105 0.8943798542022705\n",
      "106 2.258512496948242\n",
      "107 0.305999755859375\n",
      "108 1.2764675617218018\n",
      "109 1.7971854209899902\n",
      "110 4.7479143142700195\n",
      "111 2.205188274383545\n",
      "112 4.301583766937256\n",
      "113 3.5410516262054443\n",
      "114 1.4316701889038086\n",
      "115 1.6458702087402344\n",
      "116 1.0737059116363525\n",
      "117 0.6255595684051514\n",
      "118 0.658099889755249\n",
      "119 0.39513611793518066\n",
      "120 0.7839884757995605\n",
      "Wall time: 3min 3s\n"
     ]
    }
   ],
   "source": [
    "%%time\n",
    "xsols = []\n",
    "fsols = []\n",
    "c = 0\n",
    "for xd in product(range(2),range(5),range(3),range(2),range(2)):\n",
    "    c+=1\n",
    "    #if c>=5:\n",
    "    #    break\n",
    "    start_time = time.time();\n",
    "    #print(xd)\n",
    "    pop = pg.population(prob = my_constrained_udp(xd), size = 1)\n",
    "    pop.problem.c_tol = [1E-6] * 5\n",
    "    pop = algo.evolve(pop)\n",
    "    print(c, time.time()-start_time)\n",
    "    fsols.append(pop.champion_f)\n",
    "    xsols.append(pop.champion_x)"
   ]
  },
  {
   "cell_type": "code",
   "execution_count": 135,
   "metadata": {},
   "outputs": [],
   "source": [
    "import matplotlib.pyplot as plt"
   ]
  },
  {
   "cell_type": "code",
   "execution_count": 136,
   "metadata": {},
   "outputs": [],
   "source": [
    "masses = [f[0] for f in fsols]"
   ]
  },
  {
   "cell_type": "code",
   "execution_count": 137,
   "metadata": {},
   "outputs": [
    {
     "data": {
      "text/plain": [
       "[<matplotlib.lines.Line2D at 0x20c6b34ce48>]"
      ]
     },
     "execution_count": 137,
     "metadata": {},
     "output_type": "execute_result"
    },
    {
     "data": {
      "image/png": "[encoded data removed]",
      "text/plain": [
       "<Figure size 432x288 with 1 Axes>"
      ]
     },
     "metadata": {
      "needs_background": "light"
     },
     "output_type": "display_data"
    }
   ],
   "source": [
    "plt.plot(masses)"
   ]
  },
  {
   "cell_type": "code",
   "execution_count": 139,
   "metadata": {},
   "outputs": [
    {
     "data": {
      "text/plain": [
       "2"
      ]
     },
     "execution_count": 139,
     "metadata": {},
     "output_type": "execute_result"
    }
   ],
   "source": [
    "np.argmin(masses)"
   ]
  },
  {
   "cell_type": "code",
   "execution_count": 140,
   "metadata": {},
   "outputs": [],
   "source": [
    "comms, bat, payload, solar, choice = list(product(range(2),range(5),range(3),range(2),range(2)))[2]"
   ]
  },
  {
   "cell_type": "code",
   "execution_count": 141,
   "metadata": {},
   "outputs": [
    {
     "data": {
      "text/plain": [
       "(0, 0, 0, 1, 0)"
      ]
     },
     "execution_count": 141,
     "metadata": {},
     "output_type": "execute_result"
    }
   ],
   "source": [
    "comms, bat, payload, solar, choice"
   ]
  },
  {
   "cell_type": "code",
   "execution_count": 142,
   "metadata": {},
   "outputs": [
    {
     "data": {
      "text/plain": [
       "array([0.04352431, 0.42017571, 0.83084799])"
      ]
     },
     "execution_count": 142,
     "metadata": {},
     "output_type": "execute_result"
    }
   ],
   "source": [
    "xsols[2]"
   ]
  },
  {
   "cell_type": "code",
   "execution_count": 143,
   "metadata": {},
   "outputs": [
    {
     "data": {
      "text/plain": [
       "[2.1008785341437193,\n",
       " 1.1324274851176597e-14,\n",
       " -1.9628642533575658e-07,\n",
       " -47537.18237468571,\n",
       " -9.30842529444924,\n",
       " 9.142718475629863e-07]"
      ]
     },
     "execution_count": 143,
     "metadata": {},
     "output_type": "execute_result"
    }
   ],
   "source": [
    "my_constrained_udp([comms, bat, payload, solar, choice]).fitness(xsols[2])"
   ]
  },
  {
   "cell_type": "code",
   "execution_count": 109,
   "metadata": {},
   "outputs": [],
   "source": [
    "m_T, P_T, G_T = m_Ti[comms], P_Ti[comms], G_Ti[comms]\n",
    "E_b, m_b = E_bi[bat], m_bi[bat]\n",
    "D_p, m_p = D_pi[payload], m_pi[payload]\n",
    "ρ_A, η_A = ρ_Ai[solar], η_Ai[solar]"
   ]
  },
  {
   "cell_type": "code",
   "execution_count": 73,
   "metadata": {},
   "outputs": [
    {
     "data": {
      "text/plain": [
       "array([ 1.15959309e+00, -4.99186831e-09,  4.84181536e-07, -4.02279227e+04,\n",
       "       -3.29598711e+00, -1.21676326e+04])"
      ]
     },
     "execution_count": 73,
     "metadata": {},
     "output_type": "execute_result"
    }
   ],
   "source": [
    "pop.champion_f"
   ]
  },
  {
   "cell_type": "code",
   "execution_count": 37,
   "metadata": {},
   "outputs": [
    {
     "data": {
      "text/plain": [
       "array([6.16288433e+02, 5.09874120e-01, 6.07571482e+01, 3.33637451e+01])"
      ]
     },
     "execution_count": 37,
     "metadata": {},
     "output_type": "execute_result"
    }
   ],
   "source": [
    "pop.champion_x"
   ]
  },
  {
   "cell_type": "code",
   "execution_count": 315,
   "metadata": {},
   "outputs": [],
   "source": [
    "def eval_all(xd, xc):\n",
    "    comms, bat, payload, solar, choice = xd\n",
    "    m_T, P_T, G_T = m_Ti[comms], P_Ti[comms], G_Ti[comms]\n",
    "    E_b, m_b = E_bi[bat], m_bi[bat]\n",
    "    D_p, m_p = D_pi[payload], m_pi[payload]\n",
    "    ρ_A, η_A = ρ_Ai[solar], η_Ai[solar]\n",
    "    h, A, m_s, m_pr = xc\n",
    "    a = h + R\n",
    "    T = 2*np.pi*np.sqrt(a**3/μ)\n",
    "    g = 1/np.pi*np.arccos(R/(R+h))\n",
    "    d = g+0.5\n",
    "    r = np.sqrt(h**2+2*R*h)\n",
    "    mt = f4(a, T, A, ρ_A, m_s, m_T, m_p, m_b, choice)"
   ]
  },
  {
   "cell_type": "code",
   "execution_count": null,
   "metadata": {},
   "outputs": [],
   "source": []
  },
  {
   "cell_type": "code",
   "execution_count": null,
   "metadata": {},
   "outputs": [],
   "source": []
  },
  {
   "cell_type": "code",
   "execution_count": 308,
   "metadata": {},
   "outputs": [],
   "source": [
    "a = h + R\n",
    "T = 2*np.pi*np.sqrt(a**3/μ)\n",
    "g = 1/np.pi*np.arccos(R/(R+h))\n",
    "d = g+0.5\n",
    "r = np.sqrt(h**2+2*R*h)"
   ]
  },
  {
   "cell_type": "code",
   "execution_count": 309,
   "metadata": {},
   "outputs": [
    {
     "data": {
      "text/plain": [
       "2.9691740677017098"
      ]
     },
     "execution_count": 309,
     "metadata": {},
     "output_type": "execute_result"
    }
   ],
   "source": [
    "g1 = lambda A, η_A, P_T: d*A*η_A*Q-P_T # positive\n",
    "g1(A, η_A, P_T)"
   ]
  },
  {
   "cell_type": "code",
   "execution_count": 310,
   "metadata": {},
   "outputs": [
    {
     "data": {
      "text/plain": [
       "47350.55219091913"
      ]
     },
     "execution_count": 310,
     "metadata": {},
     "output_type": "execute_result"
    }
   ],
   "source": [
    "g2 = lambda E_b, d, T, P_T: E_b-1/d*P_T*T\n",
    "g2(E_b, d, T, P_T)"
   ]
  },
  {
   "cell_type": "code",
   "execution_count": 311,
   "metadata": {},
   "outputs": [
    {
     "data": {
      "text/plain": [
       "7.251761495956831"
      ]
     },
     "execution_count": 311,
     "metadata": {},
     "output_type": "execute_result"
    }
   ],
   "source": [
    "def g3(T, P_T):\n",
    "    D = 2*np.pi*R*B*N/X_r\n",
    "    b = D/T\n",
    "    #print(b/(8*1e6)) #Mb/s\n",
    "    #D_T = λ_c*np.sqrt(G_T/η)/np.pi\n",
    "    EN_calc = P_T*G_r*G_T/(L*k*T_s*b)*(λ_c/(4*np.pi*r))**2\n",
    "    return 10*np.log10(EN_calc)-EN\n",
    "g3(T, P_T)"
   ]
  },
  {
   "cell_type": "code",
   "execution_count": 322,
   "metadata": {},
   "outputs": [],
   "source": [
    "def f4(a, T, A, ρ_A, m_s, m_T, m_p, m_b):\n",
    "    T_g = 3*μ/(2*a**3)*c_W\n",
    "    if choice:\n",
    "        m_torque = ρ_P2*T*T_g*1/4*np.sqrt(2)/2*3*365*L_min/(G*I_sp)\n",
    "    else:\n",
    "        m_torque = ρ_M*T_g\n",
    "    m_A=ρ_A*A\n",
    "    return m_s+m_T+m_c+m_A+m_p+m_b+m_torque\n",
    "mt = f4(a, T, A, ρ_A, m_s, m_T, m_p, m_b)"
   ]
  },
  {
   "cell_type": "code",
   "execution_count": 327,
   "metadata": {},
   "outputs": [],
   "source": [
    "def g4(h, a, A, T, mt, m_pr):\n",
    "    Ln = H(h)*mt/(2*np.pi*C_D*A*ρ(h)*a**2)*T\n",
    "    Lp = m_pr*I_sp*G*a/(0.5*C_D*A*ρ(h)*μ)\n",
    "    #print(Ln*toyear, Lp*toyear)\n",
    "    return (Ln+Lp)*toyear-L_min"
   ]
  },
  {
   "cell_type": "code",
   "execution_count": 328,
   "metadata": {},
   "outputs": [],
   "source": [
    "h5 = lambda ms, mt: ms - η_S*mt"
   ]
  },
  {
   "cell_type": "code",
   "execution_count": 279,
   "metadata": {},
   "outputs": [
    {
     "name": "stdout",
     "output_type": "stream",
     "text": [
      "184\n",
      "64.0\n",
      "48.0\n"
     ]
    }
   ],
   "source": [
    "m = 0.2678\n",
    "print(round(m*70*9.81))\n",
    "print(round(70*9.81*np.log(3/(3-m))))\n",
    "print(round(70*9.81*np.log(4/(4-m))))s"
   ]
  },
  {
   "cell_type": "code",
   "execution_count": 224,
   "metadata": {},
   "outputs": [
    {
     "data": {
      "text/plain": [
       "0.42736778981994905"
      ]
     },
     "execution_count": 224,
     "metadata": {},
     "output_type": "execute_result"
    }
   ],
   "source": [
    "m = 1\n",
    "A = 0.01\n",
    "h = 400e3\n",
    "a = R+h\n",
    "T = 2*np.pi*np.sqrt(a**3/μ)\n",
    "H(h)*m/(2*np.pi*C_D*A*ρ(h)*a**2)*4000*toyear"
   ]
  },
  {
   "cell_type": "code",
   "execution_count": 326,
   "metadata": {},
   "outputs": [
    {
     "name": "stdout",
     "output_type": "stream",
     "text": [
      "1.5717926672129576 3.492635249842361\n"
     ]
    },
    {
     "data": {
      "text/plain": [
       "2.064427917055319"
      ]
     },
     "execution_count": 326,
     "metadata": {},
     "output_type": "execute_result"
    }
   ],
   "source": [
    "g4(h, a, A, T, mt, m_pr)"
   ]
  },
  {
   "cell_type": "code",
   "execution_count": null,
   "metadata": {},
   "outputs": [],
   "source": []
  }
 ],
 "metadata": {
  "kernelspec": {
   "display_name": "mdo",
   "language": "python",
   "name": "mdo"
  },
  "language_info": {
   "codemirror_mode": {
    "name": "ipython",
    "version": 3
   },
   "file_extension": ".py",
   "mimetype": "text/x-python",
   "name": "python",
   "nbconvert_exporter": "python",
   "pygments_lexer": "ipython3",
   "version": "3.6.7"
  }
 },
 "nbformat": 4,
 "nbformat_minor": 4
}
